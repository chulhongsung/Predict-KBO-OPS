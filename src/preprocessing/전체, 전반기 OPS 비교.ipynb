{
 "cells": [
  {
   "cell_type": "code",
   "execution_count": 1,
   "metadata": {
    "scrolled": true
   },
   "outputs": [
    {
     "data": {
      "text/html": [
       "<table>\n",
       "<thead><tr><th></th><th scope=col>used</th><th scope=col>(Mb)</th><th scope=col>gc trigger</th><th scope=col>(Mb)</th><th scope=col>max used</th><th scope=col>(Mb)</th></tr></thead>\n",
       "<tbody>\n",
       "\t<tr><th scope=row>Ncells</th><td>508985 </td><td>27.2   </td><td>1093324</td><td>58.4   </td><td>508985 </td><td>27.2   </td></tr>\n",
       "\t<tr><th scope=row>Vcells</th><td>974556 </td><td> 7.5   </td><td>8388608</td><td>64.0   </td><td>974556 </td><td> 7.5   </td></tr>\n",
       "</tbody>\n",
       "</table>\n"
      ],
      "text/latex": [
       "\\begin{tabular}{r|llllll}\n",
       "  & used & (Mb) & gc trigger & (Mb) & max used & (Mb)\\\\\n",
       "\\hline\n",
       "\tNcells & 508985  & 27.2    & 1093324 & 58.4    & 508985  & 27.2   \\\\\n",
       "\tVcells & 974556  &  7.5    & 8388608 & 64.0    & 974556  &  7.5   \\\\\n",
       "\\end{tabular}\n"
      ],
      "text/markdown": [
       "\n",
       "| <!--/--> | used | (Mb) | gc trigger | (Mb) | max used | (Mb) |\n",
       "|---|---|---|---|---|---|---|\n",
       "| Ncells | 508985  | 27.2    | 1093324 | 58.4    | 508985  | 27.2    |\n",
       "| Vcells | 974556  |  7.5    | 8388608 | 64.0    | 974556  |  7.5    |\n",
       "\n"
      ],
      "text/plain": [
       "       used   (Mb) gc trigger (Mb) max used (Mb)\n",
       "Ncells 508985 27.2 1093324    58.4 508985   27.2\n",
       "Vcells 974556  7.5 8388608    64.0 974556    7.5"
      ]
     },
     "metadata": {},
     "output_type": "display_data"
    },
    {
     "name": "stderr",
     "output_type": "stream",
     "text": [
      "-- Attaching packages --------------------------------------- tidyverse 1.2.1 --\n",
      "√ ggplot2 3.1.0     √ purrr   0.2.5\n",
      "√ tibble  1.4.2     √ dplyr   0.7.8\n",
      "√ tidyr   0.8.2     √ stringr 1.3.1\n",
      "√ readr   1.2.1     √ forcats 0.3.0\n",
      "-- Conflicts ------------------------------------------ tidyverse_conflicts() --\n",
      "x dplyr::filter() masks stats::filter()\n",
      "x dplyr::lag()    masks stats::lag()\n",
      "\n",
      "Attaching package: 'data.table'\n",
      "\n",
      "The following objects are masked from 'package:dplyr':\n",
      "\n",
      "    between, first, last\n",
      "\n",
      "The following object is masked from 'package:purrr':\n",
      "\n",
      "    transpose\n",
      "\n"
     ]
    }
   ],
   "source": [
    "options(warn = -1, tibble.width = Inf)\n",
    "\n",
    "rm(list = ls())\n",
    "gc(reset = TRUE)\n",
    "\n",
    "library(tidyverse)\n",
    "library(data.table)\n",
    "\n",
    "setwd(\"C:\\\\Users\\\\UOS\\\\Desktop\\\\dacon\\\\data\")"
   ]
  },
  {
   "cell_type": "code",
   "execution_count": 4,
   "metadata": {},
   "outputs": [],
   "source": [
    "pre_tmp <- fread('Pre_Season_Batter.csv', encoding = 'UTF-8') %>% as.tibble\n",
    "\n",
    "rsb <- fread('Regular_Season_Batter.csv', encoding = 'UTF-8') %>% as.tibble\n",
    "\n",
    "dbd_tmp <- fread('Regular_Season_Batter_Day_by_Day.csv', encoding = 'UTF-8') %>% as.tibble"
   ]
  },
  {
   "cell_type": "code",
   "execution_count": 5,
   "metadata": {},
   "outputs": [],
   "source": [
    "pre = pre_tmp %>% \n",
    "  mutate(`1B` = H - `2B` - `3B` - `HR`) %>%\n",
    "  select(batter_id:year, AB:GDP, `1B`, -TB)\n",
    "\n",
    "dbd = dbd_tmp %>%\n",
    "  mutate(`1B` = H - `2B` - `3B` - `HR`) %>% \n",
    "  select(batter_id, batter_name, year, date, opposing_team, avg1, AB, R, H, `1B`, everything())\n",
    "\n",
    "criterion = 7.17\n",
    "\n",
    "dbd_fh = dbd %>% filter(date <= criterion) # 전반기 데이터\n",
    "\n",
    "dbd_sh = dbd %>% filter(date > criterion) # 후반기 데이터\n",
    "\n",
    "rsb_fh_x = dbd_fh %>% group_by(batter_id, batter_name, year) %>% summarise_at(colnames(.)[c(7:20)], funs(sum)) %>% ungroup()\n",
    "\n",
    "rsb_fh_y = dbd_fh %>% group_by(batter_id, batter_name, year) %>% \n",
    "  summarise(OBP = (sum(H) + sum(BB) + sum(HBP))/(sum(AB) + sum(BB) + sum(HBP)), SLG = (sum(`1B`) + sum(`2B`)*2 + sum(`3B`)*3 + sum(HR)*4)/sum(AB), AB = sum(AB)) %>% \n",
    "  mutate(OPS = OBP + SLG) %>% ungroup()\n",
    "\n",
    "rsb_sh_x = dbd_sh %>% group_by(batter_id, batter_name, year) %>% summarise_at(colnames(.)[7:20], funs(sum)) %>% ungroup()\n",
    "\n",
    "rsb_sh_y = dbd_sh %>% group_by(batter_id, batter_name, year) %>% \n",
    "  summarise(OBP = (sum(H) + sum(BB) + sum(HBP))/(sum(AB) + sum(BB) + sum(HBP)), SLG = (sum(`1B`) + sum(`2B`)*2 + sum(`3B`)*3 + sum(HR)*4)/sum(AB), AB = sum(AB)) %>% \n",
    "  mutate(OPS = OBP + SLG) %>% ungroup()\n",
    "\n",
    "rsb_OPS <- rsb %>% select(batter_id, year, OPS)\n",
    "\n",
    "rsb_fh_OPS <- rsb_fh_y %>% select(batter_id, year, OPS)\n",
    "\n",
    "colnames(rsb_fh_OPS) <- c('batter_id', 'year', 'F_OPS')\n",
    "\n",
    "rsb_sh_OPS <- rsb_sh_y %>% select(batter_id, year, OPS)\n",
    "\n",
    "colnames(rsb_sh_OPS) <- c('batter_id', 'year', 'S_OPS')\n",
    "\n",
    "rsb_OPS <- rsb_OPS %>% left_join(rsb_fh_OPS, by = c('batter_id', 'year'))\n",
    "\n",
    "rsb_OPS <- rsb_OPS %>% left_join(rsb_sh_OPS, by = c('batter_id', 'year'))\n",
    "\n",
    "tmp_data <- rsb_OPS %>% gather(key = 'season', value = 'season_OPS', -batter_id, -year)"
   ]
  },
  {
   "cell_type": "markdown",
   "metadata": {},
   "source": [
    "### 2016 ~ 2018년 전체, 전반기 OPS 비교 그래프"
   ]
  },
  {
   "cell_type": "code",
   "execution_count": 6,
   "metadata": {},
   "outputs": [
    {
     "data": {
      "image/png": "[encoded data removed]",
      "text/plain": [
       "plot without title"
      ]
     },
     "metadata": {},
     "output_type": "display_data"
    }
   ],
   "source": [
    "ggplot(tmp_data %>% filter((year %in% c(2016:2018)) & (season %in% c('OPS', 'F_OPS')))) + \n",
    "  geom_line(aes(x = batter_id, y = season_OPS, col = season), size = 1) +\n",
    "  facet_grid(year ~.)\n",
    "\n",
    "### 붉은색이 시즌 초반 OPS, 푸른색이 시즌 전체 OPS"
   ]
  }
 ],
 "metadata": {
  "kernelspec": {
   "display_name": "R",
   "language": "R",
   "name": "ir"
  },
  "language_info": {
   "codemirror_mode": "r",
   "file_extension": ".r",
   "mimetype": "text/x-r-source",
   "name": "R",
   "pygments_lexer": "r",
   "version": "3.5.1"
  }
 },
 "nbformat": 4,
 "nbformat_minor": 2
}
