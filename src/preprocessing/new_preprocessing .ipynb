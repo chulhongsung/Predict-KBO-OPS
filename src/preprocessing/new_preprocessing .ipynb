{
 "cells": [
  {
   "cell_type": "code",
   "execution_count": 1,
   "metadata": {
    "collapsed": true
   },
   "outputs": [
    {
     "data": {
      "text/html": [
       "<table>\n",
       "<thead><tr><th></th><th scope=col>used</th><th scope=col>(Mb)</th><th scope=col>gc trigger</th><th scope=col>(Mb)</th><th scope=col>max used</th><th scope=col>(Mb)</th></tr></thead>\n",
       "<tbody>\n",
       "\t<tr><th scope=row>Ncells</th><td>510734 </td><td>27.3   </td><td>1097818</td><td>58.7   </td><td>510734 </td><td>27.3   </td></tr>\n",
       "\t<tr><th scope=row>Vcells</th><td>978541 </td><td> 7.5   </td><td>8388608</td><td>64.0   </td><td>978541 </td><td> 7.5   </td></tr>\n",
       "</tbody>\n",
       "</table>\n"
      ],
      "text/latex": [
       "\\begin{tabular}{r|llllll}\n",
       "  & used & (Mb) & gc trigger & (Mb) & max used & (Mb)\\\\\n",
       "\\hline\n",
       "\tNcells & 510734  & 27.3    & 1097818 & 58.7    & 510734  & 27.3   \\\\\n",
       "\tVcells & 978541  &  7.5    & 8388608 & 64.0    & 978541  &  7.5   \\\\\n",
       "\\end{tabular}\n"
      ],
      "text/markdown": [
       "\n",
       "| <!--/--> | used | (Mb) | gc trigger | (Mb) | max used | (Mb) |\n",
       "|---|---|---|---|---|---|---|\n",
       "| Ncells | 510734  | 27.3    | 1097818 | 58.7    | 510734  | 27.3    |\n",
       "| Vcells | 978541  |  7.5    | 8388608 | 64.0    | 978541  |  7.5    |\n",
       "\n"
      ],
      "text/plain": [
       "       used   (Mb) gc trigger (Mb) max used (Mb)\n",
       "Ncells 510734 27.3 1097818    58.7 510734   27.3\n",
       "Vcells 978541  7.5 8388608    64.0 978541    7.5"
      ]
     },
     "metadata": {},
     "output_type": "display_data"
    },
    {
     "name": "stderr",
     "output_type": "stream",
     "text": [
      "Loading required package: tidyverse\n",
      "-- \u001b[1mAttaching packages\u001b[22m --------------------------------------- tidyverse 1.2.1 --\n",
      "\u001b[32m√\u001b[39m \u001b[34mggplot2\u001b[39m 3.1.0       \u001b[32m√\u001b[39m \u001b[34mpurrr  \u001b[39m 0.3.1  \n",
      "\u001b[32m√\u001b[39m \u001b[34mtibble \u001b[39m 2.0.1       \u001b[32m√\u001b[39m \u001b[34mdplyr  \u001b[39m 0.8.0.\u001b[31m1\u001b[39m\n",
      "\u001b[32m√\u001b[39m \u001b[34mtidyr  \u001b[39m 0.8.3       \u001b[32m√\u001b[39m \u001b[34mstringr\u001b[39m 1.4.0  \n",
      "\u001b[32m√\u001b[39m \u001b[34mreadr  \u001b[39m 1.3.1       \u001b[32m√\u001b[39m \u001b[34mforcats\u001b[39m 0.4.0  \n",
      "-- \u001b[1mConflicts\u001b[22m ------------------------------------------ tidyverse_conflicts() --\n",
      "\u001b[31mx\u001b[39m \u001b[34mdplyr\u001b[39m::\u001b[32mfilter()\u001b[39m masks \u001b[34mstats\u001b[39m::filter()\n",
      "\u001b[31mx\u001b[39m \u001b[34mdplyr\u001b[39m::\u001b[32mlag()\u001b[39m    masks \u001b[34mstats\u001b[39m::lag()\n",
      "Loading required package: data.table\n",
      "\n",
      "Attaching package: 'data.table'\n",
      "\n",
      "The following objects are masked from 'package:dplyr':\n",
      "\n",
      "    between, first, last\n",
      "\n",
      "The following object is masked from 'package:purrr':\n",
      "\n",
      "    transpose\n",
      "\n",
      "Loading required package: corrplot\n",
      "corrplot 0.84 loaded\n"
     ]
    }
   ],
   "source": [
    "rm(list = ls())\n",
    "gc(reset = TRUE)\n",
    "\n",
    "if(Sys.getenv('USERNAME') == 'UOS') setwd('C:\\\\Users\\\\UOS\\\\Desktop\\\\dacon')\n",
    "if(Sys.getenv('USERNAME') == 'moon') setwd('D:\\\\Project\\\\git\\\\Predict-KBO-OPS\\\\src')\n",
    "if(Sys.getenv('USERNAME') == 'kyucheol') setwd('C:\\\\Users\\\\kyucheol\\\\Dropbox\\\\dacon')\n",
    "\n",
    "if(!require(tidyverse)) install.packages('tidyverse'); require(tidyverse)\n",
    "if(!require(data.table)) install.packages('data.table'); require(data.table)\n",
    "if(!require(corrplot)) install.packages('corrplot'); require(corrplot)\n",
    "\n",
    "options(warn = -1, tibble.width = Inf)"
   ]
  },
  {
   "cell_type": "code",
   "execution_count": 23,
   "metadata": {},
   "outputs": [],
   "source": [
    "rsb_tmp = fread('data/Regular_Season_Batter.csv', encoding = 'UTF-8') %>% as.tibble\n",
    "\n",
    "rsb <- rsb_tmp %>% select(batter_id:year,avg:GDP)\n",
    "\n",
    "colnames(rsb) <- c(colnames(rsb)[1:8], 'TWB', 'THB', colnames(rsb)[11:length(rsb)])"
   ]
  },
  {
   "cell_type": "markdown",
   "metadata": {},
   "source": [
    "### 변수들의 density plot"
   ]
  },
  {
   "cell_type": "markdown",
   "metadata": {},
   "source": [
    "```r\n",
    "\n",
    "density_plot <- function(){\n",
    "  for(i in 1:16){\n",
    "    print(ggplot(data = rsb, aes_string(colnames(rsb)[i+3])) + geom_density(stat = 'density') + xlab(colnames(rsb)[i+3]))\n",
    "  }\n",
    "}\n",
    "\n",
    "density_plot()\n",
    "\n",
    "```"
   ]
  },
  {
   "cell_type": "markdown",
   "metadata": {},
   "source": [
    "### log scale 해서 plot을 그리기, 결과적으로 정규분포의 꼴을 만들기는 어려움."
   ]
  },
  {
   "cell_type": "markdown",
   "metadata": {},
   "source": [
    "```r\n",
    "skew_col <- colnames(rsb)[7:19]\n",
    "\n",
    "log_density_plot <- function(){\n",
    "  for(i in 1:13){\n",
    "    print(ggplot(data = rsb, aes_string(skew_col[i])) + geom_density(stat = 'density') + xlab(skew_col[i]) + scale_x_continuous(trans='log10'))\n",
    "  }\n",
    "}\n",
    "\n",
    "log_density_plot()\n",
    "\n",
    "```"
   ]
  },
  {
   "cell_type": "markdown",
   "metadata": {},
   "source": [
    "### G, AB가 높을 경우, 당연하게 안타를 많이 침"
   ]
  },
  {
   "cell_type": "code",
   "execution_count": 6,
   "metadata": {},
   "outputs": [
    {
     "data": {
      "image/png": "[encoded data removed]",
      "text/plain": [
       "Plot with title \"\""
      ]
     },
     "metadata": {},
     "output_type": "display_data"
    }
   ],
   "source": [
    "rsb2 <- rsb %>% mutate(submem = if_else(AB < 10, 1, 0))\n",
    "\n",
    "cm <- cor(rsb2[,4:20])\n",
    "\n",
    "corrplot(cm, method = 'circle', type = 'upper')"
   ]
  },
  {
   "cell_type": "markdown",
   "metadata": {},
   "source": [
    "### Case1. 1 ~ 3루타, 홈런의 비율을 사용"
   ]
  },
  {
   "cell_type": "code",
   "execution_count": 14,
   "metadata": {},
   "outputs": [
    {
     "data": {
      "text/html": [
       "<ol class=list-inline>\n",
       "\t<li>'batter_id'</li>\n",
       "\t<li>'batter_name'</li>\n",
       "\t<li>'year'</li>\n",
       "\t<li>'avg'</li>\n",
       "\t<li>'G'</li>\n",
       "\t<li>'AB'</li>\n",
       "\t<li>'R'</li>\n",
       "\t<li>'H'</li>\n",
       "\t<li>'TWB'</li>\n",
       "\t<li>'THB'</li>\n",
       "\t<li>'HR'</li>\n",
       "\t<li>'TB'</li>\n",
       "\t<li>'RBI'</li>\n",
       "\t<li>'SB'</li>\n",
       "\t<li>'CS'</li>\n",
       "\t<li>'BB'</li>\n",
       "\t<li>'HBP'</li>\n",
       "\t<li>'SO'</li>\n",
       "\t<li>'GDP'</li>\n",
       "</ol>\n"
      ],
      "text/latex": [
       "\\begin{enumerate*}\n",
       "\\item 'batter\\_id'\n",
       "\\item 'batter\\_name'\n",
       "\\item 'year'\n",
       "\\item 'avg'\n",
       "\\item 'G'\n",
       "\\item 'AB'\n",
       "\\item 'R'\n",
       "\\item 'H'\n",
       "\\item 'TWB'\n",
       "\\item 'THB'\n",
       "\\item 'HR'\n",
       "\\item 'TB'\n",
       "\\item 'RBI'\n",
       "\\item 'SB'\n",
       "\\item 'CS'\n",
       "\\item 'BB'\n",
       "\\item 'HBP'\n",
       "\\item 'SO'\n",
       "\\item 'GDP'\n",
       "\\end{enumerate*}\n"
      ],
      "text/markdown": [
       "1. 'batter_id'\n",
       "2. 'batter_name'\n",
       "3. 'year'\n",
       "4. 'avg'\n",
       "5. 'G'\n",
       "6. 'AB'\n",
       "7. 'R'\n",
       "8. 'H'\n",
       "9. 'TWB'\n",
       "10. 'THB'\n",
       "11. 'HR'\n",
       "12. 'TB'\n",
       "13. 'RBI'\n",
       "14. 'SB'\n",
       "15. 'CS'\n",
       "16. 'BB'\n",
       "17. 'HBP'\n",
       "18. 'SO'\n",
       "19. 'GDP'\n",
       "\n",
       "\n"
      ],
      "text/plain": [
       " [1] \"batter_id\"   \"batter_name\" \"year\"        \"avg\"         \"G\"          \n",
       " [6] \"AB\"          \"R\"           \"H\"           \"TWB\"         \"THB\"        \n",
       "[11] \"HR\"          \"TB\"          \"RBI\"         \"SB\"          \"CS\"         \n",
       "[16] \"BB\"          \"HBP\"         \"SO\"          \"GDP\"        "
      ]
     },
     "metadata": {},
     "output_type": "display_data"
    }
   ],
   "source": [
    "colnames(rsb)"
   ]
  },
  {
   "cell_type": "code",
   "execution_count": 24,
   "metadata": {},
   "outputs": [],
   "source": [
    "rsb <- rsb %>% mutate(ONB = H - TWB - THB - HR) %>% select(batter_id:H, ONB, TWB:GDP, -TB)"
   ]
  },
  {
   "cell_type": "code",
   "execution_count": 19,
   "metadata": {},
   "outputs": [
    {
     "data": {
      "text/html": [
       "<ol class=list-inline>\n",
       "\t<li>'batter_id'</li>\n",
       "\t<li>'batter_name'</li>\n",
       "\t<li>'year'</li>\n",
       "\t<li>'avg'</li>\n",
       "\t<li>'G'</li>\n",
       "\t<li>'AB'</li>\n",
       "\t<li>'R'</li>\n",
       "\t<li>'H'</li>\n",
       "\t<li>'ONB'</li>\n",
       "\t<li>'TWB'</li>\n",
       "\t<li>'THB'</li>\n",
       "\t<li>'HR'</li>\n",
       "\t<li>'RBI'</li>\n",
       "\t<li>'SB'</li>\n",
       "\t<li>'CS'</li>\n",
       "\t<li>'BB'</li>\n",
       "\t<li>'HBP'</li>\n",
       "\t<li>'SO'</li>\n",
       "\t<li>'GDP'</li>\n",
       "</ol>\n"
      ],
      "text/latex": [
       "\\begin{enumerate*}\n",
       "\\item 'batter\\_id'\n",
       "\\item 'batter\\_name'\n",
       "\\item 'year'\n",
       "\\item 'avg'\n",
       "\\item 'G'\n",
       "\\item 'AB'\n",
       "\\item 'R'\n",
       "\\item 'H'\n",
       "\\item 'ONB'\n",
       "\\item 'TWB'\n",
       "\\item 'THB'\n",
       "\\item 'HR'\n",
       "\\item 'RBI'\n",
       "\\item 'SB'\n",
       "\\item 'CS'\n",
       "\\item 'BB'\n",
       "\\item 'HBP'\n",
       "\\item 'SO'\n",
       "\\item 'GDP'\n",
       "\\end{enumerate*}\n"
      ],
      "text/markdown": [
       "1. 'batter_id'\n",
       "2. 'batter_name'\n",
       "3. 'year'\n",
       "4. 'avg'\n",
       "5. 'G'\n",
       "6. 'AB'\n",
       "7. 'R'\n",
       "8. 'H'\n",
       "9. 'ONB'\n",
       "10. 'TWB'\n",
       "11. 'THB'\n",
       "12. 'HR'\n",
       "13. 'RBI'\n",
       "14. 'SB'\n",
       "15. 'CS'\n",
       "16. 'BB'\n",
       "17. 'HBP'\n",
       "18. 'SO'\n",
       "19. 'GDP'\n",
       "\n",
       "\n"
      ],
      "text/plain": [
       " [1] \"batter_id\"   \"batter_name\" \"year\"        \"avg\"         \"G\"          \n",
       " [6] \"AB\"          \"R\"           \"H\"           \"ONB\"         \"TWB\"        \n",
       "[11] \"THB\"         \"HR\"          \"RBI\"         \"SB\"          \"CS\"         \n",
       "[16] \"BB\"          \"HBP\"         \"SO\"          \"GDP\"        "
      ]
     },
     "metadata": {},
     "output_type": "display_data"
    }
   ],
   "source": [
    "colnames(rsb)"
   ]
  },
  {
   "cell_type": "code",
   "execution_count": 25,
   "metadata": {},
   "outputs": [],
   "source": [
    "rsb_r <- rsb %>% mutate_at(vars('ONB':'HR'), funs(R = ./H))"
   ]
  },
  {
   "cell_type": "code",
   "execution_count": 27,
   "metadata": {},
   "outputs": [],
   "source": [
    "rsb_r <- rsb_r %>% mutate(submem = if_else(AB < 10, 1, 0))"
   ]
  },
  {
   "cell_type": "code",
   "execution_count": 34,
   "metadata": {},
   "outputs": [],
   "source": [
    "new_col <- c('ONB_R', 'TWB_R', 'THB_R', 'HR_R')"
   ]
  },
  {
   "cell_type": "code",
   "execution_count": 35,
   "metadata": {
    "scrolled": true
   },
   "outputs": [
    {
     "data": {
      "image/png": "[encoded data removed]",
      "text/plain": [
       "plot without title"
      ]
     },
     "metadata": {},
     "output_type": "display_data"
    },
    {
     "data": {
      "image/png": "[encoded data removed]",
      "text/plain": [
       "plot without title"
      ]
     },
     "metadata": {},
     "output_type": "display_data"
    },
    {
     "data": {
      "image/png": "[encoded data removed]",
      "text/plain": [
       "plot without title"
      ]
     },
     "metadata": {},
     "output_type": "display_data"
    },
    {
     "data": {
      "image/png": "[encoded data removed]",
      "text/plain": [
       "plot without title"
      ]
     },
     "metadata": {},
     "output_type": "display_data"
    }
   ],
   "source": [
    "density_plot <- function(){\n",
    "  for(i in new_col){\n",
    "    print(ggplot(data = rsb_r, aes_string(i)) + geom_density(stat = 'density') + xlab(i))\n",
    "  }\n",
    "}\n",
    "\n",
    "density_plot()"
   ]
  },
  {
   "cell_type": "code",
   "execution_count": 36,
   "metadata": {},
   "outputs": [
    {
     "data": {
      "image/png": "[encoded data removed]",
      "text/plain": [
       "plot without title"
      ]
     },
     "metadata": {},
     "output_type": "display_data"
    },
    {
     "data": {
      "image/png": "[encoded data removed]",
      "text/plain": [
       "plot without title"
      ]
     },
     "metadata": {},
     "output_type": "display_data"
    },
    {
     "data": {
      "image/png": "[encoded data removed]",
      "text/plain": [
       "plot without title"
      ]
     },
     "metadata": {},
     "output_type": "display_data"
    },
    {
     "data": {
      "image/png": "[encoded data removed]",
      "text/plain": [
       "plot without title"
      ]
     },
     "metadata": {},
     "output_type": "display_data"
    }
   ],
   "source": [
    "log_density_plot <- function(){\n",
    "  for(i in new_col){\n",
    "    print(ggplot(data = rsb_r, aes_string(i)) + geom_density(stat = 'density') + xlab(i) + scale_x_continuous(trans='log10'))\n",
    "  }\n",
    "}\n",
    "\n",
    "log_density_plot()"
   ]
  },
  {
   "cell_type": "code",
   "execution_count": 42,
   "metadata": {
    "scrolled": true
   },
   "outputs": [
    {
     "data": {
      "text/html": [
       "<ol class=list-inline>\n",
       "\t<li>'batter_id'</li>\n",
       "\t<li>'batter_name'</li>\n",
       "\t<li>'year'</li>\n",
       "\t<li>'avg'</li>\n",
       "\t<li>'G'</li>\n",
       "\t<li>'AB'</li>\n",
       "\t<li>'R'</li>\n",
       "\t<li>'H'</li>\n",
       "\t<li>'ONB'</li>\n",
       "\t<li>'TWB'</li>\n",
       "\t<li>'THB'</li>\n",
       "\t<li>'HR'</li>\n",
       "\t<li>'RBI'</li>\n",
       "\t<li>'SB'</li>\n",
       "\t<li>'CS'</li>\n",
       "\t<li>'BB'</li>\n",
       "\t<li>'HBP'</li>\n",
       "\t<li>'SO'</li>\n",
       "\t<li>'GDP'</li>\n",
       "\t<li>'ONB_R'</li>\n",
       "\t<li>'TWB_R'</li>\n",
       "\t<li>'THB_R'</li>\n",
       "\t<li>'HR_R'</li>\n",
       "\t<li>'submem'</li>\n",
       "</ol>\n"
      ],
      "text/latex": [
       "\\begin{enumerate*}\n",
       "\\item 'batter\\_id'\n",
       "\\item 'batter\\_name'\n",
       "\\item 'year'\n",
       "\\item 'avg'\n",
       "\\item 'G'\n",
       "\\item 'AB'\n",
       "\\item 'R'\n",
       "\\item 'H'\n",
       "\\item 'ONB'\n",
       "\\item 'TWB'\n",
       "\\item 'THB'\n",
       "\\item 'HR'\n",
       "\\item 'RBI'\n",
       "\\item 'SB'\n",
       "\\item 'CS'\n",
       "\\item 'BB'\n",
       "\\item 'HBP'\n",
       "\\item 'SO'\n",
       "\\item 'GDP'\n",
       "\\item 'ONB\\_R'\n",
       "\\item 'TWB\\_R'\n",
       "\\item 'THB\\_R'\n",
       "\\item 'HR\\_R'\n",
       "\\item 'submem'\n",
       "\\end{enumerate*}\n"
      ],
      "text/markdown": [
       "1. 'batter_id'\n",
       "2. 'batter_name'\n",
       "3. 'year'\n",
       "4. 'avg'\n",
       "5. 'G'\n",
       "6. 'AB'\n",
       "7. 'R'\n",
       "8. 'H'\n",
       "9. 'ONB'\n",
       "10. 'TWB'\n",
       "11. 'THB'\n",
       "12. 'HR'\n",
       "13. 'RBI'\n",
       "14. 'SB'\n",
       "15. 'CS'\n",
       "16. 'BB'\n",
       "17. 'HBP'\n",
       "18. 'SO'\n",
       "19. 'GDP'\n",
       "20. 'ONB_R'\n",
       "21. 'TWB_R'\n",
       "22. 'THB_R'\n",
       "23. 'HR_R'\n",
       "24. 'submem'\n",
       "\n",
       "\n"
      ],
      "text/plain": [
       " [1] \"batter_id\"   \"batter_name\" \"year\"        \"avg\"         \"G\"          \n",
       " [6] \"AB\"          \"R\"           \"H\"           \"ONB\"         \"TWB\"        \n",
       "[11] \"THB\"         \"HR\"          \"RBI\"         \"SB\"          \"CS\"         \n",
       "[16] \"BB\"          \"HBP\"         \"SO\"          \"GDP\"         \"ONB_R\"      \n",
       "[21] \"TWB_R\"       \"THB_R\"       \"HR_R\"        \"submem\"     "
      ]
     },
     "metadata": {},
     "output_type": "display_data"
    }
   ],
   "source": [
    "colnames(rsb_r)"
   ]
  },
  {
   "cell_type": "code",
   "execution_count": 43,
   "metadata": {},
   "outputs": [],
   "source": [
    "rsb_re <- rsb_r %>% select(batter_id:H, ONB_R, TWB_R, THB_R, HR_R, submem, RBI:GDP)"
   ]
  },
  {
   "cell_type": "code",
   "execution_count": 44,
   "metadata": {},
   "outputs": [],
   "source": [
    "dbd_tmp = fread('data/Regular_Season_Batter_Day_by_Day.csv', encoding = 'UTF-8') %>% as.tibble\n",
    "\n",
    "#### 전반기, 후반기 나누기.\n",
    "dbd = dbd_tmp %>%\n",
    "  mutate(`1B` = H - `2B` - `3B` - `HR`) %>%\n",
    "  select(batter_id, batter_name, year, date, opposing_team, avg1, AB, R, H, `1B`, everything())\n",
    "\n",
    "criterion = 7.17 # 전반기, 후반기 기준 날짜.\n",
    "\n",
    "dbd_fh = dbd %>% filter(date <= criterion) # 전반기 데이터\n",
    "\n",
    "#### 전반기 OPS 계산하기\n",
    "rsb_fh_y = dbd_fh %>% group_by(batter_id, batter_name, year) %>%\n",
    "  summarise(OBP = (sum(H) + sum(BB) + sum(HBP))/(sum(AB) + sum(BB) + sum(HBP)), SLG = (sum(`1B`) + sum(`2B`)*2 + sum(`3B`)*3 + sum(HR)*4)/sum(AB), AB = sum(AB)) %>%\n",
    "  mutate(OPS = OBP + SLG) %>% ungroup()\n"
   ]
  },
  {
   "cell_type": "code",
   "execution_count": 50,
   "metadata": {},
   "outputs": [],
   "source": [
    "#### Lag 3 데이터 만들기.\n",
    "\n",
    "rsb_re_lag3 <- rsb_re %>%\n",
    "  group_by(batter_id, batter_name) %>%\n",
    "  mutate_at(vars('avg':'GDP'), funs(lag1 = lag(., 1), lag2 = lag(., 2), lag3 = lag(., 3))) %>% \n",
    "  ungroup()\n",
    "\n",
    "rsb_re_lag3 <- rsb_re_lag3 %>%\n",
    "  mutate(t_year = year + 1) # year + 1 로 타겟이 되는 연도 변수 생성\n",
    "\n",
    "rsb_fh_OPS <- rsb_fh_y %>% select(-OBP, -SLG)\n",
    "\n",
    "colnames(rsb_fh_OPS) <- c('batter_id', 'batter_name', 'year', 't_AB', 't_OPS')\n",
    "\n",
    "dataset <- rsb_re_lag3 %>% inner_join(rsb_fh_OPS, by = c('batter_id', 'batter_name', 't_year' = 'year')) # 타겟 변수인 OPS, AB 붙이기\n",
    "\n",
    "dataset <- dataset %>% select(-batter_name, -year, -t_year)\n",
    "\n",
    "dataset <- apply(dataset, 2, function(x) ifelse(is.nan(x)|is.na(x), 0, x)) %>% as.tibble() # NA를 0으로 대체.\n",
    "\n",
    "dataset <- dataset %>% mutate(inx = row_number())\n",
    "\n",
    "#### Stratified Sampling Method \n",
    "\n",
    "#### submem에 따라 고정된 비율로 sampling\n",
    "\n",
    "set.seed(526)\n",
    "\n",
    "lag3_train_data <- dataset %>% \n",
    "  group_by(submem) %>% \n",
    "  sample_frac(0.7) %>% \n",
    "  ungroup()\n",
    "\n",
    "train_inx <- lag3_train_data$inx\n",
    "\n",
    "lag3_test_data <- dataset[-train_inx,]\n",
    "\n",
    "lag3_train_data <- lag3_train_data %>% select(-inx)\n",
    "\n",
    "lag3_test_data <- lag3_test_data %>% select(-inx)\n",
    "\n",
    "save(lag3_train_data, lag3_test_data, file = 'lag3_data.Rdata')"
   ]
  },
  {
   "cell_type": "code",
   "execution_count": 55,
   "metadata": {},
   "outputs": [],
   "source": [
    "#### Lag 5 데이터 만들기.\n",
    "\n",
    "rsb_re_lag5 <- rsb_re %>%\n",
    "  group_by(batter_id, batter_name) %>%\n",
    "  mutate_at(vars('avg':'GDP'), funs(lag1 = lag(., 1), lag2 = lag(., 2), lag3 = lag(., 3), lag4 = lag(., 4), lag5 = lag(., 5))) %>% \n",
    "  ungroup()\n",
    "\n",
    "rsb_re_lag5 <- rsb_re_lag5 %>%\n",
    "  mutate(t_year = year + 1) # year + 1 로 타겟이 되는 연도 변수 생성\n",
    "\n",
    "dataset2 <- rsb_re_lag5 %>% inner_join(rsb_fh_OPS, by = c('batter_id', 'batter_name', 't_year' = 'year')) # 타겟 변수인 OPS, AB 붙이기\n",
    "\n",
    "dataset2 <- dataset2 %>% select(-batter_name, -year, -t_year)\n",
    "\n",
    "dataset2 <- apply(dataset2, 2, function(x) ifelse(is.nan(x)|is.na(x), 0, x)) %>% as.tibble() # NA를 0으로 대체.\n",
    "\n",
    "dataset2 <- dataset2 %>% mutate(inx = row_number())\n",
    "\n",
    "#### Stratified Sampling Method \n",
    "\n",
    "#### submem에 따라 고정된 비율로 sampling\n",
    "\n",
    "set.seed(1)\n",
    "\n",
    "lag5_train_data <- dataset2 %>% \n",
    "  group_by(submem) %>% \n",
    "  sample_frac(0.7) %>% \n",
    "  ungroup()\n",
    "\n",
    "train_inx <- lag5_train_data$inx\n",
    "\n",
    "lag5_test_data <- dataset2[-train_inx,]\n",
    "\n",
    "lag5_train_data <- lag5_train_data %>% select(-inx)\n",
    "\n",
    "lag5_test_data <- lag5_test_data %>% select(-inx)\n",
    "\n",
    "save(lag5_train_data, lag5_test_data, file = 'lag5_data.Rdata')"
   ]
  },
  {
   "cell_type": "markdown",
   "metadata": {},
   "source": [
    "### Case2. 1~3루타, 홈런을 타수로 나눔."
   ]
  },
  {
   "cell_type": "code",
   "execution_count": 56,
   "metadata": {},
   "outputs": [],
   "source": [
    "rsb_div_AB <- rsb %>% mutate_at(vars('ONB':'HR'), funs(R = ./AB))\n",
    "\n",
    "rsb_div_AB <- rsb_div_AB %>% mutate(submem = if_else(AB < 10, 1, 0))\n",
    "\n",
    "rsb_div_AB <- rsb_div_AB %>% select(batter_id:H, ONB_R, TWB_R, THB_R, HR_R, submem, RBI:GDP)\n",
    "\n",
    "#### Lag 5 데이터 만들기.\n",
    "\n",
    "rsb_div_AB_lag5 <- rsb_div_AB %>%\n",
    "  group_by(batter_id, batter_name) %>%\n",
    "  mutate_at(vars('avg':'GDP'), funs(lag1 = lag(., 1), lag2 = lag(., 2), lag3 = lag(., 3), lag4 = lag(., 4), lag5 = lag(., 5))) %>% \n",
    "  ungroup()\n",
    "\n",
    "rsb_div_AB_lag5 <- rsb_div_AB_lag5 %>%\n",
    "  mutate(t_year = year + 1) # year + 1 로 타겟이 되는 연도 변수 생성\n",
    "\n",
    "dataset3 <- rsb_div_AB_lag5 %>% inner_join(rsb_fh_OPS, by = c('batter_id', 'batter_name', 't_year' = 'year')) # 타겟 변수인 OPS, AB 붙이기\n",
    "\n",
    "dataset3 <- dataset3 %>% select(-batter_name, -year, -t_year)\n",
    "\n",
    "dataset3 <- apply(dataset3, 2, function(x) ifelse(is.nan(x)|is.na(x), 0, x)) %>% as.tibble() # NA를 0으로 대체.\n",
    "\n",
    "dataset3 <- dataset3 %>% mutate(inx = row_number())\n",
    "\n",
    "#### Stratified Sampling Method \n",
    "\n",
    "#### submem에 따라 고정된 비율로 sampling\n",
    "\n",
    "set.seed(1)\n",
    "\n",
    "lag5_train_data <- dataset3 %>% \n",
    "  group_by(submem) %>% \n",
    "  sample_frac(0.7) %>% \n",
    "  ungroup()\n",
    "\n",
    "train_inx <- lag5_train_data$inx\n",
    "\n",
    "lag5_test_data <- dataset3[-train_inx,]\n",
    "\n",
    "lag5_train_data <- lag5_train_data %>% select(-inx)\n",
    "\n",
    "lag5_test_data <- lag5_test_data %>% select(-inx)\n",
    "\n",
    "save(lag5_train_data, lag5_test_data, file = 'lag5_AB_data.Rdata')"
   ]
  }
 ],
 "metadata": {
  "kernelspec": {
   "display_name": "R",
   "language": "R",
   "name": "ir"
  },
  "language_info": {
   "codemirror_mode": "r",
   "file_extension": ".r",
   "mimetype": "text/x-r-source",
   "name": "R",
   "pygments_lexer": "r",
   "version": "3.5.3"
  }
 },
 "nbformat": 4,
 "nbformat_minor": 2
}
